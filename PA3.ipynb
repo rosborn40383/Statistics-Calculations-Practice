{
 "cells": [
  {
   "cell_type": "markdown",
   "id": "1a299f5e",
   "metadata": {},
   "source": [
    "## Richard Osborn\n",
    "### PA2, Cs-150-01, 09/17/21"
   ]
  },
  {
   "cell_type": "code",
   "execution_count": 53,
   "id": "d81c55b6",
   "metadata": {},
   "outputs": [
    {
     "name": "stdout",
     "output_type": "stream",
     "text": [
      "Enter length of side A: 4\n",
      "Enter length of side B: 5\n",
      "Enter length of side C: 6\n",
      "The area of the triangle is approximately:  9.921567416492215 square units\n",
      "The perimeter of the triangle is 15 units\n"
     ]
    }
   ],
   "source": [
    "A=int(input(\"Enter length of side A: \"))\n",
    "B=int(input(\"Enter length of side B: \"))\n",
    "C=int(input(\"Enter length of side C: \"))\n",
    "s=((A+B+C)/2)\n",
    "def calcArea(A,B,C,s):\n",
    "    return (s*(s-A)*(s-B)*(s-C)) ** 0.5\n",
    "def calcPerimeter(A,B,C):\n",
    "    return (A+B+C)\n",
    "print(\"The area of the triangle is approximately: \", calcArea(A,B,C,s), \"square units\")\n",
    "print(\"The perimeter of the triangle is\", calcPerimeter(A,B,C), \"units\")\n"
   ]
  },
  {
   "cell_type": "code",
   "execution_count": 26,
   "id": "b171e1f0",
   "metadata": {},
   "outputs": [
    {
     "name": "stdout",
     "output_type": "stream",
     "text": [
      "I am thinking of a number between 1 and 1000.\n",
      "Take a guess.\n",
      "500\n",
      "Too Low!\n",
      "Take a guess.\n",
      "700\n",
      "Too High\n",
      "Take a guess.\n",
      "600\n",
      "Too Low!\n",
      "Take a guess.\n",
      "650\n",
      "Too Low!\n",
      "Take a guess.\n",
      "670\n",
      "Too High\n",
      "Take a guess.\n",
      "660\n",
      "Too Low!\n",
      "Take a guess.\n",
      "665\n",
      "Too Low!\n",
      "Take a guess.\n",
      "666\n",
      "Too Low!\n",
      "Take a guess.\n",
      "668\n",
      "Too High\n",
      "Take a guess.\n",
      "667\n",
      "Good job, You guessed my number in 10 guesses!\n"
     ]
    }
   ],
   "source": [
    "\n",
    "evaluateGuess=0\n",
    "number = random.randint(1, 1000)\n",
    "print('I am thinking of a number between 1 and 1000.')\n",
    "while evaluateGuess < 20:\n",
    "    print('Take a guess.')\n",
    "    guess = input()\n",
    "    guess = int(guess)\n",
    "    evaluateGuess = evaluateGuess + 1\n",
    "    if guess < number:\n",
    "        print('Too Low!')\n",
    "    if guess > number:\n",
    "        print('Too High')\n",
    "    if guess == number:\n",
    "        break\n",
    "if guess == number:\n",
    "    guessesTaken = str(guessesTaken)\n",
    "    print('Good job, You guessed my number in',evaluateGuess, 'guesses!')\n",
    "if guess != number:\n",
    "    number = str(number)\n",
    "    print('Nope. The number I was thinking of was ' + number)\n",
    "\n"
   ]
  },
  {
   "cell_type": "code",
   "execution_count": 49,
   "id": "8375da69",
   "metadata": {},
   "outputs": [
    {
     "name": "stdout",
     "output_type": "stream",
     "text": [
      "enter mondays temp: 5\n",
      "enter tuesdays temp: 6\n",
      "enter wednesdays temp: 7\n",
      "enter thursdays temp: 8\n",
      "enter fridays temp: 10\n",
      "enter saturdays temp: 99\n",
      "enter sundays temp: 5\n",
      "The average temperature for the week 20\n",
      "The average temperature after 5 days 7.2\n",
      "The average temperature after 2 days 5.5\n"
     ]
    }
   ],
   "source": [
    "import statistics\n",
    "day1 = int(input(\"enter mondays temp: \"))\n",
    "\n",
    "day2 = int(input(\"enter tuesdays temp: \"))\n",
    "\n",
    "day3 = int(input(\"enter wednesdays temp: \"))\n",
    "\n",
    "day4 = int(input(\"enter thursdays temp: \"))\n",
    "\n",
    "day5 = int(input(\"enter fridays temp: \"))\n",
    "\n",
    "day6 = int(input(\"enter saturdays temp: \"))\n",
    "\n",
    "day7 = int(input(\"enter sundays temp: \"))\n",
    "week=(day1,day2,day3,day4,day5,day6,day7)\n",
    "Days5=(day1,day2,day3,day4,day5)\n",
    "Days2=(day1,day2)\n",
    "\n",
    "meanTemp = statistics.mean(week)\n",
    "meanTemp5 = statistics.mean(Days5)\n",
    "meanTemp2 = statistics.mean(Days2)\n",
    "\n",
    "print(\"The average temperature for the week\",meanTemp)\n",
    "print(\"The average temperature after 5 days\",meanTemp5)\n",
    "print(\"The average temperature after 2 days\",meanTemp2)\n"
   ]
  }
 ],
 "metadata": {
  "kernelspec": {
   "display_name": "Python 3",
   "language": "python",
   "name": "python3"
  },
  "language_info": {
   "codemirror_mode": {
    "name": "ipython",
    "version": 3
   },
   "file_extension": ".py",
   "mimetype": "text/x-python",
   "name": "python",
   "nbconvert_exporter": "python",
   "pygments_lexer": "ipython3",
   "version": "3.8.8"
  }
 },
 "nbformat": 4,
 "nbformat_minor": 5
}
